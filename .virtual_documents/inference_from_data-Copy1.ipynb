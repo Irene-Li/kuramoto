import numpy as np
from matplotlib import pyplot as plt
from utils import *
import pandas as pd
from scipy import stats





filename = 'Data/skeleton_xyz_stage_all.csv'
df = pd.read_csv(filename)





stages = df['Stage'].to_numpy().astype('int')
tubules = df['Tubule_ID'].to_numpy().astype('int')
branches = df['Branch_ID'].to_numpy().astype('int')
refs = df['Ref']

datasets = [] 
for i in range(1, 10): 
    mask = (tubules == i)
    tubule_stage = stages[mask] 
    tubule_branches = branches[mask]
    tubule_refs = refs[mask]
    tubule_dataset = [] 
    for j in range(1, tubule_branches[-1]+1):
        mask = (tubule_branches == j)
        branch_stages = tubule_stage[mask]
        branch_dataset = {
            'start': (tubule_refs[mask]).iloc[0], 
            'end': (tubule_refs[mask]).iloc[-1], 
            'stages': branch_stages,
        }
        tubule_dataset.append(branch_dataset)

    datasets.append(tubule_dataset)      





for (i, dataset) in enumerate(datasets): 
    print('tubule ID:', i+1)
    for d in dataset: 
        stages = d['stages']     
        print(d['start'], d['end'], len(stages), np.sum(stages==0), np.sum(stages==255))





orders = [[2, 0, 4], [0, 1], [0, 1], [6, 7, 9], [0, 2], [0], [0], [0, 1], [5, 6, 8]]
reverse = [[True, False, False], [False, False], [True, False], [True, False, False], [True, False], [False], [False], [True, False], [True, False, False]]

segments = [] 
for (i, (order, rev, dataset)) in enumerate(zip(orders, reverse, datasets)): 
    print('tubule ID:', i+1)
    segment = [] 
    for (j, segment_index) in enumerate(order): 
        stages = dataset[segment_index]['stages']
        if rev[j]: 
            stages = np.flip(stages)
        segment.extend(stages)
    segment = np.array(segment)
    segments.append(segment)
        
print(list(map(len, segments)))       





straight_segments = [] 
for (i, segment) in enumerate(segments): 
    boolean_mask = is_invalid(segment).astype('int')
    left = np.where((np.roll(boolean_mask, -1) - boolean_mask) > 0)[0]
    right = np.where((np.roll(boolean_mask, 1) - boolean_mask) > 0)[0]

    
    if right[0] < left[0]: # invalid segments at the start 
        right = right[1:]
    if left[-1] > right[-1]: # invalid segments at the end 
        left = left[:-1]
    
    for (l, r) in zip(left, right): # pairs of indices between which the values are invalid         
        val = period_average(segment[l], segment[r])
        segment[l+1:r] = val 
        
        
    new_mask = is_invalid(segment)
    straight_segments.append(segment[~new_mask])  


slopes = [] 

fig, axes = plt.subplots(1, 2, figsize=(12, 6))

for (n, stages) in enumerate(straight_segments): 
    phases = np.array(list(map(stage_to_phase, stages)))    
    
    shift(phases)
    theta_smooth = smooth(phases, 50)
    axes[0].plot(theta_smooth)

    theta_k = np.fft.rfft(theta_smooth)
    freq = np.fft.rfftfreq(len(theta_smooth))
    axes[1].plot(freq[1:], np.abs(np.abs(theta_k))[1:])

axes[0].set_xlim([0, 300])
axes[1].set_xlim([0, 0.1])






def MAP(phi): 
    f = lambda x: cost(phi, x[0], x[1], x[2]) 
    bounds = ((-1, 1), (-np.pi, np.pi), (0, 1))
    res = minimize(f, (-1, 0, 0), method='trust-constr', bounds=bounds)
    
    # brute(f, ((-1, 0), (-np.pi, np.pi), (0, 1)))
    return res

def get_MAP_sigma(phi, eta, grad, alpha):
    L = len(phi)+1
    phi = np.concatenate([[-grad], phi, [grad]])
    phi2 = phi[1:] + phi[:-1] 
    phi2 = np.concatenate([[-2*grad], phi2, [grad*2]])
    
    rhs = get_rhs(phi, phi2, eta, alpha) 
    overall_freq = np.sum(rhs)/L
    omegas = (rhs - overall_freq)[:-1]

    Cov = get_cov(L)
    invCov = np.linalg.inv(Cov)
    var = (omegas.T @ invCov @ omegas)/(L-1)
    return np.sqrt(var) 


def cost(phi, eta, grad, alpha): 
    L = len(phi)+1
    phi = np.concatenate([[-grad], phi, [grad]])
    phi2 = phi[1:] + phi[:-1] 
    phi2 = np.concatenate([[-2*grad], phi2, [grad*2]])
    
    rhs = get_rhs(phi, phi2, eta, alpha) 
    overall_freq = np.sum(rhs)/L
    omegas = (rhs - overall_freq)[:-1]

    Cov = get_cov(L)
    invCov = np.linalg.inv(Cov)
    var = (omegas.T @ invCov @ omegas)/(L-1)
    
    J = get_J(phi, phi2, eta, alpha)
    logdetJ = np.log(np.abs(np.linalg.det(J))) 
    
    logpdf = stats.multivariate_normal.logpdf(omegas, cov=Cov*var)

    return - logpdf - logdetJ


def get_cov(L): 
    cov = np.identity(L-1) 
    cov -= 1/L
    return cov 

def get_rhs(phi, phi2, eta, alpha): 
    NN = np.sin(phi[1:]) - np.sin(phi[:-1]) + eta*(2-np.cos(phi[1:])-np.cos(phi[:-1]))
    NNN = np.sin(phi2[2:]) - np.sin(phi2[:-2]) + eta*(2-np.cos(phi2[2:])-np.cos(phi2[:-2]))
    return NN + alpha*NNN   

def get_J(phi, phi2, eta, alpha):
    L = len(phi)-1
    J = np.zeros((L, L))
    diag = np.cos(phi[1:-1]) + eta*np.sin(phi[1:-1]) + alpha*(np.cos(phi2[2:-1])+eta*np.sin(phi2[2:-1]))
    np.fill_diagonal(J, np.append(diag, 0))
    for i in range(L):
        if i >= 1: 
            J[i, i-1] = - np.cos(phi[i]) + eta*np.sin(phi[i])
            J[i, i-1] += alpha*(-np.cos(phi2[i]) + eta*np.sin(phi2[i]))
        if i <= L-2: 
            J[i, i+1] = alpha*(np.cos(phi2[i+2]) + eta*np.sin(phi2[i+2]))
        if i >=2:
            J[i, i-2] = alpha*(-np.cos(phi2[i]) + eta*np.sin(phi2[i]))
    d_omega = np.sum(J, axis=0)/L
    J -= d_omega[np.newaxis, :] 
    return J[:-1, :-1]


etas = [] 
sigmas = [] 
grads = [] 
alphas = [] 
etas_err = [] 
sigmas_err = [] 
grads_err = [] 

plt.rc('font', size=25, family='serif')
plt.rc('text', usetex=True)

for (i, stages) in enumerate(straight_segments): 
    phases = np.array(list(map(stage_to_phase, stages)))
    shift(phases)
    theta_smooth = smooth(phases, 100)
    
    print('Tubule ID: ', i+1)

    phi = theta_smooth[1:] - theta_smooth[:-1]
    plt.plot(phi)
    omega = np.mean(2*(1-np.cos(phi)))
    slope = np.sqrt(omega)
    plt.axhline(y=slope)
    plt.axhline(y=-slope)
    plt.show() 
    
    res = MAP(phi)
    eta, grad, alpha = res.x 
    sigma = get_MAP_sigma(phi, eta, grad, alpha)
    print(sigma, eta, alpha, grad) 
    # errs_hess = errors_hess(phi, eta, sigma, grad, diff=1e-4)
    
    # widths = np.copy(errs_hess)*10
    # widths[-1] = np.pi 
    # errs_brute = errors_brute(phi, eta, sigma, grad, diff=widths)
    # print('eta: ', eta, ', error: ', errs_hess[0], errs_brute[0])
    # print('sigma: ', sigma, ', error: ', errs_hess[1], errs_brute[1])
    # print('grad: ', grad, ', error: ', errs_hess[2], errs_brute[2])
    # plot_cost(phi, eta, sigma, grad, widths=widths)
    
    etas.append(eta)
    sigmas.append(sigma)
    grads.append(grad)
    alphas.append(alpha)
    # etas_err.append(errs_brute[0])
    # sigmas_err.append(errs_brute[1])
    # grads_err.append(errs_brute[2])
    
    
    


print(np.mean(etas), np.mean(sigmas), np.mean(alphas))


slopes = [] 

plt.rc('font', size=20)
fig1, axes1 = plt.subplots(3, 3, sharex=True, sharey=True, figsize=(12, 12))

fig2, axes2 = plt.subplots(3, 3, sharex=True, sharey=True, figsize=(12, 12))

l=0 

for (n, stages) in enumerate(straight_segments): 
    i, j = np.unravel_index(n, (3, 3))
    
    phases = np.array(list(map(stage_to_phase, stages)))
        
    
    shift(phases)
    theta_smooth = smooth(phases, 50)
    
    omega = np.mean(2*(1-np.cos(phi)))
    slope = np.sqrt(omega)
    slopes.append(slope)
    
    axes1[i, j].plot(theta_smooth, 'k-')
    l = max(l, len(theta_smooth))

    phi = theta_smooth[1:]-theta_smooth[:-1]


    BB, d = find_BB(phi, etas[j], grads[j])
    var, a = traj_logpdf(BB)

    print(a+np.log(d))

    omegas = BB[1:]-BB[:-1]

    axes2[i, j].hist(omegas, alpha=0.3, density=True, bins=9, color='darkorange')
    x = np.linspace(-2, 2, 100)
    axes2[i, j].set_title(r'$\sigma={:.2f}$'.format(sigmas[n]))
    axes2[i, j].plot(x, stats.norm.pdf(x, scale=np.sqrt(var)), color='black')


axes1[0, 0].set_xlim([0, l])    
axes1[2, 1].set_xlabel(r'$x$')
axes1[1, 0].set_ylabel(r'$\theta$')
fig1.savefig('omega_fit.pdf')

axes2[0, 0].set_xlim([-2, 2])
axes2[2, 1].set_xlabel(r'$\omega_i$')
axes2[1, 0].set_ylabel(r'$pdf$')
fig1.savefig('Figures/data.pdf')
fig2.savefig('Figures/omega_fit.pdf')
plt.show()


print('slope mean: ', np.mean(slopes))
print('slope std: ', np.std(slopes))


plt.rc('font', size=25)
plt.rc('text', usetex=True)

mean_eta = np.mean(etas)
mean_sigma = np.mean(sigmas)
mean_grad = np.mean(grads)

print('mean eta: ', mean_eta)
print('mean sigma: ', mean_sigma)
print('mean grad: ', mean_grad)

fig, axes = plt.subplots(1, 3, sharex=True, figsize=(22, 6))
tubules = np.arange(1, 10)
axes[0].errorbar(tubules, etas, etas_err, fmt='o', linewidth=2, color='k', capsize=6)
axes[0].axhline(y=mean_eta, linestyle='--', color='darkorange')
axes[0].set_ylabel(r'$\eta$')
axes[0].set_xlabel(r'Tubule ID')
axes[0].set_xticks(np.arange(1, 10))
axes[0].set_ylim([-1, 0.5])

axes[1].errorbar(tubules, sigmas, sigmas_err, fmt='o', linewidth=2, color='k', capsize=6)
axes[1].axhline(y=mean_sigma, linestyle='--', color='darkorange')
axes[1].set_ylabel(r'$\sigma$')
axes[1].set_xlabel(r'Tubule ID')
axes[1].set_ylim([0, 1])

axes[2].errorbar(tubules, grads, grads_err, fmt='o', linewidth=2, color='k', capsize=6)
axes[2].axhline(y=mean_grad, linestyle='--', color='darkorange')
axes[2].set_ylabel(r'$g$')
axes[2].set_ylim([-np.pi, np.pi])
axes[2].set_xlabel(r'Tubule ID')

plt.savefig('Figures/tubules.pdf')
plt.show() 




