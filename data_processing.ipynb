{
 "cells": [
  {
   "cell_type": "code",
   "execution_count": 1,
   "id": "ee0473d9",
   "metadata": {},
   "outputs": [
    {
     "name": "stderr",
     "output_type": "stream",
     "text": [
      "\n",
      "Bad key \"text.kerning_factor\" on line 4 in\n",
      "/Users/yutingli/opt/anaconda3/envs/dde/lib/python3.7/site-packages/matplotlib/mpl-data/stylelib/_classic_test_patch.mplstyle.\n",
      "You probably need to get an updated matplotlibrc file from\n",
      "https://github.com/matplotlib/matplotlib/blob/v3.1.2/matplotlibrc.template\n",
      "or from the matplotlib source distribution\n"
     ]
    }
   ],
   "source": [
    "import pandas as pd\n",
    "import numpy as np\n",
    "from matplotlib import pyplot as plt\n",
    "from kuramoto import *"
   ]
  },
  {
   "cell_type": "markdown",
   "id": "d5f48412",
   "metadata": {},
   "source": [
    "## Define functions for reading in the csv files and organising the data"
   ]
  },
  {
   "cell_type": "code",
   "execution_count": 2,
   "id": "0de35247",
   "metadata": {},
   "outputs": [],
   "source": [
    "def process_file(filename): \n",
    "    # first, read in the csv files\n",
    "    dataframe = pd.read_csv(filename)\n",
    "    \n",
    "    # extract the columns we want and concatenate them together \n",
    "    sub_dataframe = concat_columns(dataframe)\n",
    "    \n",
    "    # make list of datasets from the sub_dataframe \n",
    "    datasets = make_datasets(sub_dataframe) \n",
    "    \n",
    "    # filter out the segments that are too short \n",
    "    f = lambda x: len(x['length']) > 2 \n",
    "    datasets = list(filter(f, datasets))\n",
    "    \n",
    "    return datasets \n",
    "    \n",
    "def concat_columns(dataframe):\n",
    "    temp = {} \n",
    "    for col in dataframe.columns: \n",
    "        full_name = col.split('.')\n",
    "        if len(full_name) == 1: \n",
    "            temp[col] = dataframe[col]\n",
    "        if len(full_name) == 2:\n",
    "            temp[full_name[0]] = pd.concat([temp[full_name[0]], dataframe[col]], ignore_index=True)\n",
    "    sub_dict = {k: temp[k] for k in ['Branch', 'Length', 'Phase']}\n",
    "    sub_dataframe = pd.DataFrame(sub_dict)\n",
    "    return sub_dataframe \n",
    "    \n",
    "def make_datasets(sub_dataframe): \n",
    "    datasets = [] \n",
    "    flag = True\n",
    "    for (i, row) in sub_dataframe.iterrows():\n",
    "        if row.isnull().all():\n",
    "            flag = True\n",
    "        else: \n",
    "            if flag: # start a new dataset \n",
    "                dataset = {} \n",
    "                datasets.append(dataset)\n",
    "                dataset['ends'] = []\n",
    "                dataset['length'] = [] \n",
    "                dataset['phase'] = [] \n",
    "                flag = False \n",
    "            try: \n",
    "                dataset['length'].append(int(row['Length'].replace(',', '')))\n",
    "                dataset['phase'].append(int(row['Phase'][-1]))\n",
    "            except Exception: \n",
    "                print(row)\n",
    "            if isinstance(row['Branch'], str): \n",
    "                dataset['ends'].append(row['Branch'].lower())\n",
    "                \n",
    "    return datasets "
   ]
  },
  {
   "cell_type": "markdown",
   "id": "d0fcd1b1",
   "metadata": {},
   "source": [
    "## First we try to process all datasets and look at the distribution of the three phases "
   ]
  },
  {
   "cell_type": "code",
   "execution_count": 3,
   "id": "a842e0b4",
   "metadata": {},
   "outputs": [],
   "source": [
    "datasets = [] \n",
    "for i in range(1, 10): \n",
    "    datasets += process_file('data/T{}.csv'.format(i))"
   ]
  },
  {
   "cell_type": "code",
   "execution_count": 4,
   "id": "ec28bec2",
   "metadata": {},
   "outputs": [],
   "source": [
    "lengths = [[], [], []]\n",
    "for dataset in datasets: \n",
    "    p = dataset['phase']\n",
    "    l = dataset['length']\n",
    "    for (i, j) in enumerate([2, 6, 8]): \n",
    "        lengths[i].extend([x for (x, y) in zip(l, p) if y == j])"
   ]
  },
  {
   "cell_type": "code",
   "execution_count": 6,
   "id": "b2f033e1",
   "metadata": {},
   "outputs": [
    {
     "data": {
      "image/png": "[encoded data removed]",
      "text/plain": [
       "<Figure size 432x288 with 1 Axes>"
      ]
     },
     "metadata": {
      "needs_background": "light"
     },
     "output_type": "display_data"
    },
    {
     "data": {
      "image/png": "[encoded data removed]",
      "text/plain": [
       "<Figure size 432x288 with 1 Axes>"
      ]
     },
     "metadata": {
      "needs_background": "light"
     },
     "output_type": "display_data"
    },
    {
     "data": {
      "image/png": "[encoded data removed]",
      "text/plain": [
       "<Figure size 432x288 with 1 Axes>"
      ]
     },
     "metadata": {
      "needs_background": "light"
     },
     "output_type": "display_data"
    }
   ],
   "source": [
    "for i in range(3): \n",
    "    plt.hist(lengths[i])\n",
    "    plt.show() "
   ]
  },
  {
   "cell_type": "code",
   "execution_count": null,
   "id": "471f400f",
   "metadata": {},
   "outputs": [],
   "source": []
  }
 ],
 "metadata": {
  "kernelspec": {
   "display_name": "Python 3",
   "language": "python",
   "name": "python3"
  },
  "language_info": {
   "codemirror_mode": {
    "name": "ipython",
    "version": 3
   },
   "file_extension": ".py",
   "mimetype": "text/x-python",
   "name": "python",
   "nbconvert_exporter": "python",
   "pygments_lexer": "ipython3",
   "version": "3.7.9"
  }
 },
 "nbformat": 4,
 "nbformat_minor": 5
}
