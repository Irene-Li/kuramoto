{
 "cells": [
  {
   "cell_type": "code",
   "execution_count": 1,
   "id": "ee0473d9",
   "metadata": {},
   "outputs": [
    {
     "name": "stderr",
     "output_type": "stream",
     "text": [
      "\n",
      "Bad key \"text.kerning_factor\" on line 4 in\n",
      "/Users/yutingli/opt/anaconda3/lib/python3.7/site-packages/matplotlib/mpl-data/stylelib/_classic_test_patch.mplstyle.\n",
      "You probably need to get an updated matplotlibrc file from\n",
      "https://github.com/matplotlib/matplotlib/blob/v3.1.2/matplotlibrc.template\n",
      "or from the matplotlib source distribution\n"
     ]
    }
   ],
   "source": [
    "import pandas as pd\n",
    "import numpy as np\n",
    "from matplotlib import pyplot as plt\n",
    "from kuramoto import *\n",
    "from utils import *"
   ]
  },
  {
   "cell_type": "markdown",
   "id": "d5f48412",
   "metadata": {},
   "source": [
    "## Read in the csv files "
   ]
  },
  {
   "cell_type": "code",
   "execution_count": 2,
   "id": "a842e0b4",
   "metadata": {
    "scrolled": true
   },
   "outputs": [
    {
     "name": "stdout",
     "output_type": "stream",
     "text": [
      "Some error occured: \n",
      " Branch        NaN\n",
      "Length    338,393\n",
      "Phase      Label0\n",
      "Name: 79, dtype: object\n"
     ]
    }
   ],
   "source": [
    "datasets = [] \n",
    "for i in range(1, 10): \n",
    "    datasets += process_file('data/T{}.csv'.format(i))"
   ]
  },
  {
   "cell_type": "code",
   "execution_count": 3,
   "id": "c464205a",
   "metadata": {
    "collapsed": true
   },
   "outputs": [
    {
     "name": "stdout",
     "output_type": "stream",
     "text": [
      "[{'ends': ['r5', 'b5'], 'length': array([ 3067039,  4172719, 10527450,  1039014,   496619,  1321535,\n",
      "         685150,  1083438,  1303023,  2437343,  8397461,  4892269,\n",
      "        3915722]), 'phase': array([1, 0, 2, 1, 2, 1, 2, 1, 2, 1, 0, 2, 1])}, {'ends': ['b5', 'b6'], 'length': array([ 226657, 3388542, 7526665, 4271241,  435361]), 'phase': array([1, 2, 0, 1, 2])}, {'ends': ['b6', 'r7'], 'length': array([ 870997, 5537385, 3014124, 6513500, 3896637, 3616539, 7547796,\n",
      "       3898161, 3629066, 4977700]), 'phase': array([2, 1, 2, 0, 1, 2, 0, 1, 2, 0])}, {'ends': ['b5', 'b4'], 'length': array([  330008,   204458,  4627863, 10350847,  1423509,  1149963,\n",
      "        1830079]), 'phase': array([1, 2, 1, 0, 2, 0, 2])}, {'ends': ['b6', 'r6'], 'length': array([1710724, 7875599, 6169817,  929852, 2673687, 6326641]), 'phase': array([2, 0, 1, 0, 1, 2])}, {'ends': ['r3', 'b1'], 'length': array([5963988, 2508010, 6290133, 3463476]), 'phase': array([2, 1, 0, 2])}, {'ends': ['b2', 'r4'], 'length': array([4107055, 3902483, 4327481, 1854376, 2362898, 3264924]), 'phase': array([1, 2, 1, 2, 0, 1])}, {'ends': ['b3', 'r2'], 'length': array([ 4313921, 11464341,  3364007,  2425318,   314760,  1705906,\n",
      "        5263200,  2237108,  1672611,  2777661]), 'phase': array([1, 0, 1, 2, 1, 2, 0, 1, 2, 1])}, {'ends': ['r1', 'b1'], 'length': array([ 2021053,  1855722,  2000131, 13113110,  1042035,  8254026,\n",
      "        1550129,  1327227,  5297676,  2035785,   278646]), 'phase': array([0, 2, 1, 0, 2, 1, 2, 1, 0, 1, 2])}, {'ends': ['b2', 'b3'], 'length': array([ 2402411, 13141089,  2629788,  1304366,  1166119,  3814109,\n",
      "        6520257,  2714000,  2431767,  5511899,  3528772,  1061339,\n",
      "         885836,  1162082,  2159911,  1849662]), 'phase': array([1, 0, 2, 1, 2, 1, 0, 2, 1, 0, 2, 1, 2, 1, 0, 1])}, {'ends': ['b4', 'r8'], 'length': array([ 3602895,  3274285, 12975671,  4303550, 11021050,   480255,\n",
      "        3071761,  7113730,  2313364,  3979146,  2381653,  2336605,\n",
      "        5124351,  6065996]), 'phase': array([2, 1, 0, 2, 0, 1, 2, 0, 1, 2, 0, 1, 2, 0])}, {'ends': ['r1', 'b1'], 'length': array([10272944,  1703164,  4212671,  2378578,  2952727,  4355183,\n",
      "        8288465,  1200300,   785446,  4929270,  6494769,  4578844,\n",
      "        2521065,  4146606,   826228,  2525687,  1000485,  2025728,\n",
      "        1923714,  4261213,   481641]), 'phase': array([2, 1, 2, 1, 0, 1, 0, 1, 2, 1, 0, 2, 1, 0, 2, 1, 2, 1, 2, 0, 1])}, {'ends': ['b1', 'r3'], 'length': array([ 803336, 3957806,  816376, 1384135, 1023109, 1136128, 9198716,\n",
      "        972920,  672989, 4133689, 4673399, 7912418, 2513098, 2777076]), 'phase': array([1, 0, 2, 1, 2, 1, 0, 1, 0, 1, 2, 0, 1, 2])}, {'ends': ['b1', 'r2'], 'length': array([ 293264, 2426231, 4099657]), 'phase': array([1, 2, 1])}, {'ends': ['r1', 'b1'], 'length': array([ 1491937,  4036262,  2261651,  1682121,  9422745,  2060816,\n",
      "        2802478,  8694852,  1333199,  6770595,  2836444,  6720701,\n",
      "        4032806,  6107149, 10097565,  4215320,  6330773,  1530722,\n",
      "         680950,  6059865,  1850020,  4211436,  2207262,  1245936,\n",
      "         815953]), 'phase': array([2, 0, 2, 1, 0, 2, 0, 2, 1, 0, 1, 0, 1, 2, 0, 1, 2, 0, 2, 0, 1, 2,\n",
      "       0, 1, 2])}, {'ends': ['b1', 'r3'], 'length': array([ 892516, 9693812, 3237893, 4550553, 6283237, 2658441, 5675390]), 'phase': array([2, 0, 1, 2, 0, 1, 2])}, {'ends': ['b1', 'r2'], 'length': array([2538725, 2961526, 2542152,  362353]), 'phase': array([1, 2, 0, 1])}, {'ends': ['r2', 'b1'], 'length': array([ 1793463,  3456634,  2106138,  9510706,  2484160,  2793619,\n",
      "        1823057,   983122,  1089755, 13564593,   659319,   379279]), 'phase': array([1, 2, 1, 2, 1, 0, 1, 2, 1, 0, 1, 2])}, {'ends': ['b1', 'b2'], 'length': array([ 4590161, 15151879,  6431241,  3393278,  6654502,  1187188,\n",
      "        1295477,  6595094,  3564207,  3139266,  1891834]), 'phase': array([2, 0, 1, 2, 0, 1, 0, 1, 2, 0, 2])}, {'ends': ['b2', 'r8'], 'length': array([8025770,  115449, 2340556, 3737819]), 'phase': array([2, 1, 0, 1])}, {'ends': ['b3', 'b1'], 'length': array([ 756090, 3884373, 5389476,  681001, 5394032,  471034, 3498894,\n",
      "       4336463, 1997708, 4403474]), 'phase': array([2, 1, 0, 1, 2, 1, 0, 2, 1, 0])}, {'ends': ['b2', 'r6'], 'length': array([ 561472, 4485461, 4583194,  641476]), 'phase': array([2, 1, 2, 0])}, {'ends': ['r4', 'b6'], 'length': array([6191258, 4588096, 2406458, 2287333,  369858]), 'phase': array([2, 1, 0, 1, 2])}, {'ends': ['b5', 'b4'], 'length': array([5560931, 3323230, 5056443, 2274486,  978777]), 'phase': array([0, 1, 2, 1, 2])}, {'ends': ['r1', 'b6'], 'length': array([2693391,  871784, 4338509, 7181358]), 'phase': array([2, 1, 0, 2])}, {'ends': ['b6', 'b5'], 'length': array([ 7360891,  5659584,  1128225,  4889319,  5159691,  2345799,\n",
      "        4530339,  7846048,   350656,   250022,  4000180,  3969475,\n",
      "        5890741,   909635,  6383047,  3324368,   486901,  1969492,\n",
      "        3846237, 17574234]), 'phase': array([2, 1, 2, 1, 0, 2, 1, 0, 2, 0, 2, 1, 0, 1, 0, 2, 1, 2, 1, 0])}, {'ends': ['b5', 'r7'], 'length': array([1114961, 4603749, 4720125, 7563060, 5851288, 3205852, 1533622,\n",
      "        414293,  601563, 1574944,  350547, 1010104, 1644404, 2457276,\n",
      "        514358]), 'phase': array([0, 1, 2, 0, 1, 2, 0, 1, 2, 0, 2, 1, 2, 0, 1])}, {'ends': ['r1', 'b1'], 'length': array([  928855,  2443951,  1949903,  1160212,  4280673,  5200963,\n",
      "        3095882, 11432373,   240703,  2307800,  2426420, 15111606,\n",
      "         947898,  4990512,  1712943,  2838126,  1214845,   406268]), 'phase': array([2, 0, 2, 1, 0, 2, 1, 0, 1, 2, 1, 0, 1, 2, 0, 2, 0, 1])}, {'ends': ['b1', 'r3'], 'length': array([ 677100, 1694403, 1301784, 6559387, 2345490, 2576217, 6188220,\n",
      "       4067586, 5434490, 1973149,  805941,  467600, 1113429, 3367360,\n",
      "       5735528]), 'phase': array([1, 0, 2, 0, 1, 2, 0, 1, 0, 1, 2, 1, 2, 1, 2])}, {'ends': ['r2', 'b1'], 'length': array([6225720,  852336, 2266604, 5811246]), 'phase': array([2, 1, 0, 1])}, {'ends': ['r1', 'r2'], 'length': array([ 1747028,  1506263,  2164509,  1185893,   477535,  4628382,\n",
      "        5157070,  2211075,  3350075,  4198671,  6705032,  2909649,\n",
      "        2255973,  2047478,  6239702, 26414962,  1210092,  3254007,\n",
      "        2903486]), 'phase': array([2, 0, 2, 1, 2, 1, 2, 1, 0, 1, 0, 2, 1, 2, 1, 0, 1, 2, 0])}, {'ends': ['r1', 'r2'], 'length': array([10994183,   361869,  8541662,  5744816,   280362,  1428662,\n",
      "        9434617,  9775991,  1525193,  6389733,  4206482,  2306999,\n",
      "        4093245,  6139364, 21907858,  4557290,  4379033, 10321411,\n",
      "        2124513,  8232179,  7333425,  3333905,  7215331,   730144,\n",
      "        1163330,  4629489]), 'phase': array([2, 1, 0, 2, 1, 2, 1, 0, 1, 0, 1, 0, 1, 2, 0, 1, 2, 0, 1, 0, 1, 2,\n",
      "       0, 1, 2, 0])}, {'ends': ['b1', 'r3'], 'length': array([ 1998046,   595787,  2911586,  5298372,  7172474,  9017758,\n",
      "        4522469,  7648690,  4401229,  2038067, 16057031,  2814493,\n",
      "        1096034,  3639000,  1970166, 11664396,  3522787,   994468,\n",
      "         278618,  1278049,  7445808,  1724455,  3963033,  8825984,\n",
      "        1579005,  6750483,  4669742,  3393968,  5071774,  3289378,\n",
      "        2909109,  2307170,   235894,   653194]), 'phase': array([2, 1, 2, 1, 0, 2, 1, 0, 2, 1, 0, 2, 1, 0, 1, 0, 2, 1, 2, 1, 0, 1,\n",
      "       2, 0, 1, 0, 1, 2, 0, 1, 2, 0, 1, 2])}, {'ends': ['r2', 'b1'], 'length': array([ 2889840,  4705620,  3051788,  3283351,  1833734,  1342774,\n",
      "        3375246, 11169725,   485518]), 'phase': array([0, 2, 1, 0, 1, 0, 1, 0, 2])}, {'ends': ['r1', 'b1'], 'length': array([2368304, 4279330, 1481277, 2106896, 6700711, 1247173,  821568,\n",
      "       1756775, 6213462, 2641049, 1935117, 7004038, 1186914,  548563]), 'phase': array([2, 1, 0, 1, 0, 1, 0, 1, 0, 2, 1, 0, 2, 0])}, {'ends': ['b1', 'b2'], 'length': array([ 2927420,  3023751,  1434196,  1539489,   580182,  2728065,\n",
      "       11311088,  3497931,  3083085,  1873378,  9865097, 11096103,\n",
      "        6278108,   319131]), 'phase': array([0, 1, 2, 0, 1, 2, 0, 1, 0, 1, 2, 0, 1, 2])}, {'ends': ['b2', 'r3'], 'length': array([ 196335, 2841689, 3174507, 5595195, 1566811, 1699419, 1712220]), 'phase': array([2, 1, 2, 0, 1, 2, 0])}, {'ends': ['b3', 'b1'], 'length': array([4861745, 4683243, 8206215, 4286310, 3499433, 9588501, 6189735,\n",
      "       5134220, 2721655]), 'phase': array([1, 2, 0, 1, 2, 0, 1, 2, 0])}, {'ends': ['b2', 'r2'], 'length': array([ 847088, 4262384, 1534870, 1834496, 1400237,  338393, 6885886,\n",
      "       1479063, 1442548, 1169725]), 'phase': array([2, 0, 1, 0, 1, 0, 1, 2, 0])}, {'ends': ['r4', 'b3'], 'length': array([3681737, 2746973, 2889372, 3790665,  595812,  557841]), 'phase': array([2, 0, 2, 1, 0, 1])}, {'ends': ['b3', 'b4'], 'length': array([2145949, 6691180, 9879190,  897904,  836004, 3549431, 9422851,\n",
      "        614416, 7678538, 3123339, 2710806, 4277312,  786214, 3134679,\n",
      "       2189159, 1067561, 5819273, 1768374, 4292569, 1760139,  561409,\n",
      "        460360,  923404, 1800630]), 'phase': array([1, 0, 2, 1, 2, 1, 0, 1, 0, 1, 2, 0, 1, 2, 0, 1, 0, 1, 2, 0, 1, 2,\n",
      "       1, 2])}]\n"
     ]
    }
   ],
   "source": [
    "print(datasets)"
   ]
  },
  {
   "cell_type": "markdown",
   "id": "5571252d",
   "metadata": {},
   "source": [
    "## Find the defects and collect together wavelengths with and w/o the defects "
   ]
  },
  {
   "cell_type": "code",
   "execution_count": 3,
   "id": "bbcf570c",
   "metadata": {},
   "outputs": [],
   "source": [
    "find_defects(datasets) \n",
    "lengths, lengths_wo_defects = find_lengths(datasets) "
   ]
  },
  {
   "cell_type": "code",
   "execution_count": 6,
   "id": "b2f033e1",
   "metadata": {},
   "outputs": [
    {
     "name": "stdout",
     "output_type": "stream",
     "text": [
      "140\n",
      "109\n"
     ]
    },
    {
     "data": {
      "image/png": "[encoded data removed]",
      "text/plain": [
       "<Figure size 432x288 with 1 Axes>"
      ]
     },
     "metadata": {
      "needs_background": "light"
     },
     "output_type": "display_data"
    },
    {
     "name": "stdout",
     "output_type": "stream",
     "text": [
      "177\n",
      "102\n"
     ]
    },
    {
     "data": {
      "image/png": "[encoded data removed]",
      "text/plain": [
       "<Figure size 432x288 with 1 Axes>"
      ]
     },
     "metadata": {
      "needs_background": "light"
     },
     "output_type": "display_data"
    },
    {
     "name": "stdout",
     "output_type": "stream",
     "text": [
      "157\n",
      "116\n"
     ]
    },
    {
     "data": {
      "image/png": "[encoded data removed]",
      "text/plain": [
       "<Figure size 432x288 with 1 Axes>"
      ]
     },
     "metadata": {
      "needs_background": "light"
     },
     "output_type": "display_data"
    }
   ],
   "source": [
    "for i in range(3): \n",
    "    m = np.mean(lengths[i])\n",
    "    lengths[i] = np.array(lengths[i])/m\n",
    "    lengths_wo_defects[i] = np.array(lengths_wo_defects[i])/m\n",
    "    print(len(lengths[i]))\n",
    "    print(len(lengths_wo_defects[i]))\n",
    "    _, bins, _ = plt.hist(lengths[i], bins=5,log=False, histtype='step', label='all segments')\n",
    "    plt.hist(lengths_wo_defects[i], log=False, bins=bins, histtype='step', label='without defects')\n",
    "    plt.legend() \n",
    "    plt.show() "
   ]
  },
  {
   "cell_type": "code",
   "execution_count": null,
   "id": "471f400f",
   "metadata": {},
   "outputs": [],
   "source": []
  }
 ],
 "metadata": {
  "kernelspec": {
   "display_name": "Python 3",
   "language": "python",
   "name": "python3"
  },
  "language_info": {
   "codemirror_mode": {
    "name": "ipython",
    "version": 3
   },
   "file_extension": ".py",
   "mimetype": "text/x-python",
   "name": "python",
   "nbconvert_exporter": "python",
   "pygments_lexer": "ipython3",
   "version": "3.7.9"
  }
 },
 "nbformat": 4,
 "nbformat_minor": 5
}
